{
 "cells": [
  {
   "cell_type": "markdown",
   "metadata": {},
   "source": [
    "# github_readme_nlp"
   ]
  },
  {
   "cell_type": "code",
   "execution_count": 1,
   "metadata": {},
   "outputs": [],
   "source": [
    "# Setup environment\n",
    "import pandas as pd\n",
    "from requests import get\n",
    "from bs4 import BeautifulSoup\n",
    "import os\n",
    "import time\n",
    "import pandas as pd\n",
    "import numpy as np\n",
    "import unicodedata\n",
    "import re\n",
    "import json\n",
    "import os\n",
    "import nltk\n",
    "from nltk.tokenize.toktok import ToktokTokenizer\n",
    "from nltk.corpus import stopwords\n",
    "\n",
    "import matplotlib.pyplot as plt\n",
    "import seaborn as sns\n",
    "\n",
    "# matplotlib default plotting styles\n",
    "plt.rc(\"patch\", edgecolor=\"black\", force_edgecolor=True)\n",
    "plt.rc(\"axes\", grid=True)\n",
    "plt.rc(\"grid\", linestyle=\":\", linewidth=0.8, alpha=0.7)\n",
    "plt.rc(\"axes.spines\", right=False, top=False)\n",
    "plt.rc(\"figure\", figsize=(11, 8))\n",
    "plt.rc(\"font\", size=12.0)\n",
    "plt.rc(\"hist\", bins=25)\n",
    "\n",
    "import warnings\n",
    "warnings.filterwarnings('ignore')\n",
    "\n",
    "import acquire\n",
    "import prepare"
   ]
  },
  {
   "cell_type": "markdown",
   "metadata": {},
   "source": [
    "## Acquire/Prepare\n",
    "\n",
    "**Task** show steps to acquire and prepare\n",
    "\n",
    "- original, cleaned, stem, lemmatize notes"
   ]
  },
  {
   "cell_type": "code",
   "execution_count": 2,
   "metadata": {},
   "outputs": [],
   "source": [
    "df = prepare.get_prepped()"
   ]
  },
  {
   "cell_type": "code",
   "execution_count": 3,
   "metadata": {},
   "outputs": [
    {
     "data": {
      "text/html": [
       "<div>\n",
       "<style scoped>\n",
       "    .dataframe tbody tr th:only-of-type {\n",
       "        vertical-align: middle;\n",
       "    }\n",
       "\n",
       "    .dataframe tbody tr th {\n",
       "        vertical-align: top;\n",
       "    }\n",
       "\n",
       "    .dataframe thead th {\n",
       "        text-align: right;\n",
       "    }\n",
       "</style>\n",
       "<table border=\"1\" class=\"dataframe\">\n",
       "  <thead>\n",
       "    <tr style=\"text-align: right;\">\n",
       "      <th></th>\n",
       "      <th>language</th>\n",
       "      <th>title</th>\n",
       "      <th>original</th>\n",
       "      <th>cleaned</th>\n",
       "      <th>stemmed</th>\n",
       "      <th>lemmatized</th>\n",
       "    </tr>\n",
       "  </thead>\n",
       "  <tbody>\n",
       "    <tr>\n",
       "      <th>0</th>\n",
       "      <td>Python</td>\n",
       "      <td>GitHub - donnemartin/system-design-primer: Lea...</td>\n",
       "      <td>English ∙ 日本語 ∙ 简体中文 ∙ 繁體中文 | العَرَبِيَّة‎ ∙ ...</td>\n",
       "      <td>english portugues brasil deutsch italiano pols...</td>\n",
       "      <td>english portugu brasil deutsch italiano polski...</td>\n",
       "      <td>english portugues brasil deutsch italiano pols...</td>\n",
       "    </tr>\n",
       "    <tr>\n",
       "      <th>1</th>\n",
       "      <td>Python</td>\n",
       "      <td>GitHub - vinta/awesome-python: A curated list ...</td>\n",
       "      <td>Awesome Python \\nA curated list of awesome Pyt...</td>\n",
       "      <td>awesome python curated list awesome python fra...</td>\n",
       "      <td>awesom python curat list awesom python framewo...</td>\n",
       "      <td>awesome python curated list awesome python fra...</td>\n",
       "    </tr>\n",
       "    <tr>\n",
       "      <th>2</th>\n",
       "      <td>Python</td>\n",
       "      <td>GitHub - public-apis/public-apis: A collective...</td>\n",
       "      <td>Public APIs \\nA collective list of free APIs f...</td>\n",
       "      <td>public apis collective list free apis use soft...</td>\n",
       "      <td>public api collect list free api use softwar w...</td>\n",
       "      <td>public apis collective list free apis use soft...</td>\n",
       "    </tr>\n",
       "    <tr>\n",
       "      <th>3</th>\n",
       "      <td>Python</td>\n",
       "      <td>GitHub - TheAlgorithms/Python: All Algorithms ...</td>\n",
       "      <td>The Algorithms - Python\\n \\n \\n \\n \\n \\n \\nAll...</td>\n",
       "      <td>algorithms python algorithms implemented pytho...</td>\n",
       "      <td>algorithm python algorithm implement python ed...</td>\n",
       "      <td>algorithm python algorithm implemented python ...</td>\n",
       "    </tr>\n",
       "    <tr>\n",
       "      <th>4</th>\n",
       "      <td>Python</td>\n",
       "      <td>GitHub - tensorflow/models: Models and example...</td>\n",
       "      <td>TensorFlow Models\\nThis repository contains a ...</td>\n",
       "      <td>tensorflow models repository contains number d...</td>\n",
       "      <td>tensorflow model repositori contain number dif...</td>\n",
       "      <td>tensorflow model repository contains number di...</td>\n",
       "    </tr>\n",
       "  </tbody>\n",
       "</table>\n",
       "</div>"
      ],
      "text/plain": [
       "  language                                              title  \\\n",
       "0   Python  GitHub - donnemartin/system-design-primer: Lea...   \n",
       "1   Python  GitHub - vinta/awesome-python: A curated list ...   \n",
       "2   Python  GitHub - public-apis/public-apis: A collective...   \n",
       "3   Python  GitHub - TheAlgorithms/Python: All Algorithms ...   \n",
       "4   Python  GitHub - tensorflow/models: Models and example...   \n",
       "\n",
       "                                            original  \\\n",
       "0  English ∙ 日本語 ∙ 简体中文 ∙ 繁體中文 | العَرَبِيَّة‎ ∙ ...   \n",
       "1  Awesome Python \\nA curated list of awesome Pyt...   \n",
       "2  Public APIs \\nA collective list of free APIs f...   \n",
       "3  The Algorithms - Python\\n \\n \\n \\n \\n \\n \\nAll...   \n",
       "4  TensorFlow Models\\nThis repository contains a ...   \n",
       "\n",
       "                                             cleaned  \\\n",
       "0  english portugues brasil deutsch italiano pols...   \n",
       "1  awesome python curated list awesome python fra...   \n",
       "2  public apis collective list free apis use soft...   \n",
       "3  algorithms python algorithms implemented pytho...   \n",
       "4  tensorflow models repository contains number d...   \n",
       "\n",
       "                                             stemmed  \\\n",
       "0  english portugu brasil deutsch italiano polski...   \n",
       "1  awesom python curat list awesom python framewo...   \n",
       "2  public api collect list free api use softwar w...   \n",
       "3  algorithm python algorithm implement python ed...   \n",
       "4  tensorflow model repositori contain number dif...   \n",
       "\n",
       "                                          lemmatized  \n",
       "0  english portugues brasil deutsch italiano pols...  \n",
       "1  awesome python curated list awesome python fra...  \n",
       "2  public apis collective list free apis use soft...  \n",
       "3  algorithm python algorithm implemented python ...  \n",
       "4  tensorflow model repository contains number di...  "
      ]
     },
     "execution_count": 3,
     "metadata": {},
     "output_type": "execute_result"
    }
   ],
   "source": [
    "df.head()"
   ]
  },
  {
   "cell_type": "markdown",
   "metadata": {},
   "source": [
    "## Prep Summary\n",
    "\n",
    "- Create data frame with cleaned data and language listed."
   ]
  },
  {
   "cell_type": "code",
   "execution_count": 4,
   "metadata": {},
   "outputs": [],
   "source": [
    "lemmas_df = df[['language', 'title', 'lemmatized']]"
   ]
  },
  {
   "cell_type": "markdown",
   "metadata": {},
   "source": [
    "## Explore & Define Features\n",
    "\n",
    "### Category Distribution"
   ]
  },
  {
   "cell_type": "code",
   "execution_count": 5,
   "metadata": {},
   "outputs": [],
   "source": [
    "lemmas_df.dropna(inplace=True)"
   ]
  },
  {
   "cell_type": "code",
   "execution_count": 6,
   "metadata": {},
   "outputs": [
    {
     "data": {
      "text/plain": [
       "(79, 3)"
      ]
     },
     "execution_count": 6,
     "metadata": {},
     "output_type": "execute_result"
    }
   ],
   "source": [
    "lemmas_df.shape"
   ]
  },
  {
   "cell_type": "code",
   "execution_count": 7,
   "metadata": {},
   "outputs": [
    {
     "data": {
      "text/plain": [
       "JavaScript    0.253165\n",
       "Shell         0.253165\n",
       "Python        0.253165\n",
       "PHP           0.240506\n",
       "Name: language, dtype: float64"
      ]
     },
     "execution_count": 7,
     "metadata": {},
     "output_type": "execute_result"
    }
   ],
   "source": [
    "lemmas_df.language.value_counts(normalize = True)"
   ]
  },
  {
   "cell_type": "code",
   "execution_count": 8,
   "metadata": {},
   "outputs": [
    {
     "data": {
      "text/html": [
       "<div>\n",
       "<style scoped>\n",
       "    .dataframe tbody tr th:only-of-type {\n",
       "        vertical-align: middle;\n",
       "    }\n",
       "\n",
       "    .dataframe tbody tr th {\n",
       "        vertical-align: top;\n",
       "    }\n",
       "\n",
       "    .dataframe thead th {\n",
       "        text-align: right;\n",
       "    }\n",
       "</style>\n",
       "<table border=\"1\" class=\"dataframe\">\n",
       "  <thead>\n",
       "    <tr style=\"text-align: right;\">\n",
       "      <th></th>\n",
       "      <th>n</th>\n",
       "      <th>percent</th>\n",
       "    </tr>\n",
       "  </thead>\n",
       "  <tbody>\n",
       "    <tr>\n",
       "      <th>PHP</th>\n",
       "      <td>20</td>\n",
       "      <td>0.25</td>\n",
       "    </tr>\n",
       "    <tr>\n",
       "      <th>JavaScript</th>\n",
       "      <td>20</td>\n",
       "      <td>0.25</td>\n",
       "    </tr>\n",
       "    <tr>\n",
       "      <th>Shell</th>\n",
       "      <td>20</td>\n",
       "      <td>0.25</td>\n",
       "    </tr>\n",
       "    <tr>\n",
       "      <th>Python</th>\n",
       "      <td>20</td>\n",
       "      <td>0.25</td>\n",
       "    </tr>\n",
       "  </tbody>\n",
       "</table>\n",
       "</div>"
      ],
      "text/plain": [
       "             n  percent\n",
       "PHP         20     0.25\n",
       "JavaScript  20     0.25\n",
       "Shell       20     0.25\n",
       "Python      20     0.25"
      ]
     },
     "execution_count": 8,
     "metadata": {},
     "output_type": "execute_result"
    },
    {
     "data": {
      "image/png": "[encoded data removed]",
      "text/plain": [
       "<Figure size 432x288 with 1 Axes>"
      ]
     },
     "metadata": {},
     "output_type": "display_data"
    }
   ],
   "source": [
    "df.language.value_counts().plot.pie(\n",
    "    colors = ['pink', 'lightblue', 'green', 'orange'], autopct = '%.0f%%')\n",
    "plt.title(\"Language Distribution\")\n",
    "plt.ylabel(\"\")\n",
    "plt.xlabel('n = %d' % df.shape[0])\n",
    "\n",
    "pd.concat(\n",
    "    [df.language.value_counts(), df.language.value_counts(normalize = True)], axis = 1).set_axis([\"n\", \"percent\"], axis = 1, inplace = False)"
   ]
  },
  {
   "cell_type": "markdown",
   "metadata": {},
   "source": [
    "**Note:** join all Readme and find high count of all words"
   ]
  },
  {
   "cell_type": "code",
   "execution_count": 9,
   "metadata": {},
   "outputs": [
    {
     "data": {
      "text/plain": [
       "data        810\n",
       "use         808\n",
       "yes         693\n",
       "file        650\n",
       "python      583\n",
       "unknown     566\n",
       "library     508\n",
       "using       498\n",
       "aws         445\n",
       "learning    445\n",
       "dtype: int64"
      ]
     },
     "execution_count": 9,
     "metadata": {},
     "output_type": "execute_result"
    }
   ],
   "source": [
    "pd.Series(\" \".join(lemmas_df.lemmatized).split()).value_counts().head(10)"
   ]
  },
  {
   "cell_type": "markdown",
   "metadata": {},
   "source": [
    "**Note:** words within each language"
   ]
  },
  {
   "cell_type": "code",
   "execution_count": 11,
   "metadata": {},
   "outputs": [],
   "source": [
    "all_words = ' '.join(lemmas_df.lemmatized).split()\n",
    "\n",
    "python_words = ' '.join(lemmas_df[lemmas_df.language == 'Python'].lemmatized).split()\n",
    "\n",
    "javascript_words = ' '.join(lemmas_df[lemmas_df.language == 'JavaScript'].lemmatized).split()\n",
    "\n",
    "php_words = ' '.join(lemmas_df[lemmas_df.language == 'PHP'].lemmatized).split()\n",
    "\n",
    "shell_words = ' '.join(lemmas_df[lemmas_df.language == 'Shell'].lemmatized).split()"
   ]
  },
  {
   "cell_type": "markdown",
   "metadata": {},
   "source": [
    "- Once we have a list of words, we can transform it into a pandas Series, which we can then use to show us how often each of the words occurs."
   ]
  },
  {
   "cell_type": "code",
   "execution_count": 12,
   "metadata": {},
   "outputs": [],
   "source": [
    "all_freq = pd.Series(all_words).value_counts()\n",
    "\n",
    "python_words_freq = pd.Series(python_words).value_counts()\n",
    "\n",
    "javascript_words_freq = pd.Series(javascript_words).value_counts()\n",
    "\n",
    "php_words_freq = pd.Series(php_words).value_counts()\n",
    "\n",
    "shell_words_freq = pd.Series(shell_words).value_counts()"
   ]
  },
  {
   "cell_type": "markdown",
   "metadata": {},
   "source": [
    "### Term Frequency\n",
    "\n",
    "Generally, when you hear 'Term Frequency', it is referring to the number of documents in which a word appears. When we move on to computing TF-IDF, this basic definition of Term Frequency applies.\n",
    "\n",
    "However, term frequency can be calculated in a number of ways, all of which reflect how frequently a word appears in a document.\n",
    "\n",
    "Raw Count: This is simply the count of the number of occurances of each word.\n",
    "Frequency: The number of times each word appears divided by the total number of words.\n",
    "Augmented Frequency: The frequency of each word divided by the maximum frequency. This can help prevent bias towards larger documents."
   ]
  },
  {
   "cell_type": "code",
   "execution_count": 45,
   "metadata": {},
   "outputs": [],
   "source": [
    "raw_count = (\n",
    "    pd.concat([all_freq, python_words_freq, javascript_words_freq, php_words_freq, shell_words_freq], axis=1, sort=True)\n",
    "    .rename(columns={0: \"All\", 1: \"Python\", 2: \"JavaScript\", 3: \"PHP\", 4: \"Shell\"})\n",
    "    .fillna(0)\n",
    "    .apply(lambda col: col.astype(int))\n",
    ")"
   ]
  },
  {
   "cell_type": "code",
   "execution_count": 46,
   "metadata": {},
   "outputs": [
    {
     "data": {
      "text/html": [
       "<div>\n",
       "<style scoped>\n",
       "    .dataframe tbody tr th:only-of-type {\n",
       "        vertical-align: middle;\n",
       "    }\n",
       "\n",
       "    .dataframe tbody tr th {\n",
       "        vertical-align: top;\n",
       "    }\n",
       "\n",
       "    .dataframe thead th {\n",
       "        text-align: right;\n",
       "    }\n",
       "</style>\n",
       "<table border=\"1\" class=\"dataframe\">\n",
       "  <thead>\n",
       "    <tr style=\"text-align: right;\">\n",
       "      <th></th>\n",
       "      <th>&amp;#9;</th>\n",
       "      <th>aaa</th>\n",
       "      <th>aaaffefadffffdebccbecffeeddffffdebffef</th>\n",
       "      <th>aac</th>\n",
       "      <th>aalaapfakeryoutube</th>\n",
       "      <th>aan</th>\n",
       "      <th>aanzeejavascript</th>\n",
       "      <th>ab</th>\n",
       "      <th>abacus</th>\n",
       "      <th>abbrev</th>\n",
       "      <th>...</th>\n",
       "      <th>zshthemerandom</th>\n",
       "      <th>zshthemerandomcandidates</th>\n",
       "      <th>zshthemerobbyrussell</th>\n",
       "      <th>zshyourpath</th>\n",
       "      <th>zulauf</th>\n",
       "      <th>zun</th>\n",
       "      <th>zxf</th>\n",
       "      <th>zynga</th>\n",
       "      <th>zyszys</th>\n",
       "      <th>zyszysgmailcom</th>\n",
       "    </tr>\n",
       "  </thead>\n",
       "  <tbody>\n",
       "    <tr>\n",
       "      <th>All</th>\n",
       "      <td>32</td>\n",
       "      <td>1</td>\n",
       "      <td>1</td>\n",
       "      <td>3</td>\n",
       "      <td>1</td>\n",
       "      <td>1</td>\n",
       "      <td>1</td>\n",
       "      <td>6</td>\n",
       "      <td>2</td>\n",
       "      <td>2</td>\n",
       "      <td>...</td>\n",
       "      <td>1</td>\n",
       "      <td>1</td>\n",
       "      <td>1</td>\n",
       "      <td>1</td>\n",
       "      <td>1</td>\n",
       "      <td>1</td>\n",
       "      <td>1</td>\n",
       "      <td>2</td>\n",
       "      <td>1</td>\n",
       "      <td>1</td>\n",
       "    </tr>\n",
       "    <tr>\n",
       "      <th>Python</th>\n",
       "      <td>0</td>\n",
       "      <td>0</td>\n",
       "      <td>0</td>\n",
       "      <td>2</td>\n",
       "      <td>0</td>\n",
       "      <td>0</td>\n",
       "      <td>0</td>\n",
       "      <td>4</td>\n",
       "      <td>0</td>\n",
       "      <td>0</td>\n",
       "      <td>...</td>\n",
       "      <td>0</td>\n",
       "      <td>0</td>\n",
       "      <td>0</td>\n",
       "      <td>0</td>\n",
       "      <td>0</td>\n",
       "      <td>0</td>\n",
       "      <td>1</td>\n",
       "      <td>1</td>\n",
       "      <td>0</td>\n",
       "      <td>0</td>\n",
       "    </tr>\n",
       "    <tr>\n",
       "      <th>JavaScript</th>\n",
       "      <td>16</td>\n",
       "      <td>0</td>\n",
       "      <td>0</td>\n",
       "      <td>1</td>\n",
       "      <td>0</td>\n",
       "      <td>1</td>\n",
       "      <td>1</td>\n",
       "      <td>0</td>\n",
       "      <td>2</td>\n",
       "      <td>0</td>\n",
       "      <td>...</td>\n",
       "      <td>0</td>\n",
       "      <td>0</td>\n",
       "      <td>0</td>\n",
       "      <td>0</td>\n",
       "      <td>0</td>\n",
       "      <td>0</td>\n",
       "      <td>0</td>\n",
       "      <td>0</td>\n",
       "      <td>1</td>\n",
       "      <td>1</td>\n",
       "    </tr>\n",
       "    <tr>\n",
       "      <th>PHP</th>\n",
       "      <td>2</td>\n",
       "      <td>0</td>\n",
       "      <td>0</td>\n",
       "      <td>0</td>\n",
       "      <td>1</td>\n",
       "      <td>0</td>\n",
       "      <td>0</td>\n",
       "      <td>2</td>\n",
       "      <td>0</td>\n",
       "      <td>0</td>\n",
       "      <td>...</td>\n",
       "      <td>0</td>\n",
       "      <td>0</td>\n",
       "      <td>0</td>\n",
       "      <td>0</td>\n",
       "      <td>1</td>\n",
       "      <td>0</td>\n",
       "      <td>0</td>\n",
       "      <td>0</td>\n",
       "      <td>0</td>\n",
       "      <td>0</td>\n",
       "    </tr>\n",
       "    <tr>\n",
       "      <th>Shell</th>\n",
       "      <td>14</td>\n",
       "      <td>1</td>\n",
       "      <td>1</td>\n",
       "      <td>0</td>\n",
       "      <td>0</td>\n",
       "      <td>0</td>\n",
       "      <td>0</td>\n",
       "      <td>0</td>\n",
       "      <td>0</td>\n",
       "      <td>2</td>\n",
       "      <td>...</td>\n",
       "      <td>1</td>\n",
       "      <td>1</td>\n",
       "      <td>1</td>\n",
       "      <td>1</td>\n",
       "      <td>0</td>\n",
       "      <td>1</td>\n",
       "      <td>0</td>\n",
       "      <td>1</td>\n",
       "      <td>0</td>\n",
       "      <td>0</td>\n",
       "    </tr>\n",
       "  </tbody>\n",
       "</table>\n",
       "<p>5 rows × 16359 columns</p>\n",
       "</div>"
      ],
      "text/plain": [
       "            &#9;  aaa  aaaffefadffffdebccbecffeeddffffdebffef  aac  \\\n",
       "All           32    1                                       1    3   \n",
       "Python         0    0                                       0    2   \n",
       "JavaScript    16    0                                       0    1   \n",
       "PHP            2    0                                       0    0   \n",
       "Shell         14    1                                       1    0   \n",
       "\n",
       "            aalaapfakeryoutube  aan  aanzeejavascript  ab  abacus  abbrev  \\\n",
       "All                          1    1                 1   6       2       2   \n",
       "Python                       0    0                 0   4       0       0   \n",
       "JavaScript                   0    1                 1   0       2       0   \n",
       "PHP                          1    0                 0   2       0       0   \n",
       "Shell                        0    0                 0   0       0       2   \n",
       "\n",
       "            ...  zshthemerandom  zshthemerandomcandidates  \\\n",
       "All         ...               1                         1   \n",
       "Python      ...               0                         0   \n",
       "JavaScript  ...               0                         0   \n",
       "PHP         ...               0                         0   \n",
       "Shell       ...               1                         1   \n",
       "\n",
       "            zshthemerobbyrussell  zshyourpath  zulauf  zun  zxf  zynga  \\\n",
       "All                            1            1       1    1    1      2   \n",
       "Python                         0            0       0    0    1      1   \n",
       "JavaScript                     0            0       0    0    0      0   \n",
       "PHP                            0            0       1    0    0      0   \n",
       "Shell                          1            1       0    1    0      1   \n",
       "\n",
       "            zyszys  zyszysgmailcom  \n",
       "All              1               1  \n",
       "Python           0               0  \n",
       "JavaScript       1               1  \n",
       "PHP              0               0  \n",
       "Shell            0               0  \n",
       "\n",
       "[5 rows x 16359 columns]"
      ]
     },
     "execution_count": 46,
     "metadata": {},
     "output_type": "execute_result"
    }
   ],
   "source": [
    "raw_count.T"
   ]
  },
  {
   "cell_type": "markdown",
   "metadata": {},
   "source": [
    "**Task** Find record that has &#9"
   ]
  },
  {
   "cell_type": "code",
   "execution_count": 47,
   "metadata": {},
   "outputs": [
    {
     "data": {
      "text/html": [
       "<div>\n",
       "<style scoped>\n",
       "    .dataframe tbody tr th:only-of-type {\n",
       "        vertical-align: middle;\n",
       "    }\n",
       "\n",
       "    .dataframe tbody tr th {\n",
       "        vertical-align: top;\n",
       "    }\n",
       "\n",
       "    .dataframe thead th {\n",
       "        text-align: right;\n",
       "    }\n",
       "</style>\n",
       "<table border=\"1\" class=\"dataframe\">\n",
       "  <thead>\n",
       "    <tr style=\"text-align: right;\">\n",
       "      <th></th>\n",
       "      <th>All</th>\n",
       "      <th>Python</th>\n",
       "      <th>JavaScript</th>\n",
       "      <th>PHP</th>\n",
       "      <th>Shell</th>\n",
       "    </tr>\n",
       "  </thead>\n",
       "  <tbody>\n",
       "    <tr>\n",
       "      <th>aws</th>\n",
       "      <td>445</td>\n",
       "      <td>13</td>\n",
       "      <td>0</td>\n",
       "      <td>0</td>\n",
       "      <td>432</td>\n",
       "    </tr>\n",
       "    <tr>\n",
       "      <th>learning</th>\n",
       "      <td>445</td>\n",
       "      <td>400</td>\n",
       "      <td>9</td>\n",
       "      <td>3</td>\n",
       "      <td>33</td>\n",
       "    </tr>\n",
       "    <tr>\n",
       "      <th>using</th>\n",
       "      <td>498</td>\n",
       "      <td>150</td>\n",
       "      <td>87</td>\n",
       "      <td>48</td>\n",
       "      <td>213</td>\n",
       "    </tr>\n",
       "    <tr>\n",
       "      <th>library</th>\n",
       "      <td>508</td>\n",
       "      <td>438</td>\n",
       "      <td>32</td>\n",
       "      <td>26</td>\n",
       "      <td>12</td>\n",
       "    </tr>\n",
       "    <tr>\n",
       "      <th>unknown</th>\n",
       "      <td>566</td>\n",
       "      <td>565</td>\n",
       "      <td>0</td>\n",
       "      <td>0</td>\n",
       "      <td>1</td>\n",
       "    </tr>\n",
       "    <tr>\n",
       "      <th>python</th>\n",
       "      <td>583</td>\n",
       "      <td>494</td>\n",
       "      <td>2</td>\n",
       "      <td>3</td>\n",
       "      <td>84</td>\n",
       "    </tr>\n",
       "    <tr>\n",
       "      <th>file</th>\n",
       "      <td>650</td>\n",
       "      <td>231</td>\n",
       "      <td>82</td>\n",
       "      <td>59</td>\n",
       "      <td>278</td>\n",
       "    </tr>\n",
       "    <tr>\n",
       "      <th>yes</th>\n",
       "      <td>693</td>\n",
       "      <td>683</td>\n",
       "      <td>6</td>\n",
       "      <td>2</td>\n",
       "      <td>2</td>\n",
       "    </tr>\n",
       "    <tr>\n",
       "      <th>use</th>\n",
       "      <td>808</td>\n",
       "      <td>198</td>\n",
       "      <td>159</td>\n",
       "      <td>71</td>\n",
       "      <td>380</td>\n",
       "    </tr>\n",
       "    <tr>\n",
       "      <th>data</th>\n",
       "      <td>810</td>\n",
       "      <td>532</td>\n",
       "      <td>74</td>\n",
       "      <td>29</td>\n",
       "      <td>175</td>\n",
       "    </tr>\n",
       "  </tbody>\n",
       "</table>\n",
       "</div>"
      ],
      "text/plain": [
       "          All  Python  JavaScript  PHP  Shell\n",
       "aws       445      13           0    0    432\n",
       "learning  445     400           9    3     33\n",
       "using     498     150          87   48    213\n",
       "library   508     438          32   26     12\n",
       "unknown   566     565           0    0      1\n",
       "python    583     494           2    3     84\n",
       "file      650     231          82   59    278\n",
       "yes       693     683           6    2      2\n",
       "use       808     198         159   71    380\n",
       "data      810     532          74   29    175"
      ]
     },
     "execution_count": 47,
     "metadata": {},
     "output_type": "execute_result"
    }
   ],
   "source": [
    "raw_count.sort_values(by=\"All\").tail(10)"
   ]
  },
  {
   "cell_type": "markdown",
   "metadata": {},
   "source": [
    "- Most common words overall?\n",
    "- Most common Python, JavaScript, PHP, Shell words?\n",
    "- Any words that uniquely Python, JavaScript, PHP, Shell words?"
   ]
  },
  {
   "cell_type": "code",
   "execution_count": 48,
   "metadata": {},
   "outputs": [
    {
     "data": {
      "text/plain": [
       "Text(0.5, 1.0, '10 most common words')"
      ]
     },
     "execution_count": 48,
     "metadata": {},
     "output_type": "execute_result"
    },
    {
     "data": {
      "image/png": "[encoded data removed]",
      "text/plain": [
       "<Figure size 432x288 with 1 Axes>"
      ]
     },
     "metadata": {
      "needs_background": "light"
     },
     "output_type": "display_data"
    }
   ],
   "source": [
    "raw_count.sort_values(by='All')['All'].tail(10).plot.barh(width=.9)\n",
    "plt.title('10 most common words')"
   ]
  },
  {
   "cell_type": "code",
   "execution_count": 49,
   "metadata": {},
   "outputs": [
    {
     "data": {
      "text/plain": [
       "Text(0.5, 1.0, '10 most common Python words')"
      ]
     },
     "execution_count": 49,
     "metadata": {},
     "output_type": "execute_result"
    },
    {
     "data": {
      "image/png": "[encoded data removed]",
      "text/plain": [
       "<Figure size 432x288 with 1 Axes>"
      ]
     },
     "metadata": {
      "needs_background": "light"
     },
     "output_type": "display_data"
    }
   ],
   "source": [
    "raw_count.sort_values(by='Python').Python.tail(10).plot.barh(width=1, color='Orange')\n",
    "plt.title('10 most common Python words')"
   ]
  },
  {
   "cell_type": "code",
   "execution_count": 50,
   "metadata": {},
   "outputs": [
    {
     "data": {
      "text/plain": [
       "Text(0.5, 1.0, 'What are the most common JavaScript words')"
      ]
     },
     "execution_count": 50,
     "metadata": {},
     "output_type": "execute_result"
    },
    {
     "data": {
      "image/png": "[encoded data removed]",
      "text/plain": [
       "<Figure size 432x288 with 1 Axes>"
      ]
     },
     "metadata": {
      "needs_background": "light"
     },
     "output_type": "display_data"
    }
   ],
   "source": [
    "raw_count.sort_values(by='JavaScript').JavaScript.tail(10).plot.barh(width=1, color='lightblue')\n",
    "plt.title('What are the most common JavaScript words')"
   ]
  },
  {
   "cell_type": "code",
   "execution_count": 51,
   "metadata": {},
   "outputs": [
    {
     "data": {
      "text/plain": [
       "Text(0.5, 1.0, 'What are the most common PHP words')"
      ]
     },
     "execution_count": 51,
     "metadata": {},
     "output_type": "execute_result"
    },
    {
     "data": {
      "image/png": "[encoded data removed]",
      "text/plain": [
       "<Figure size 432x288 with 1 Axes>"
      ]
     },
     "metadata": {
      "needs_background": "light"
     },
     "output_type": "display_data"
    }
   ],
   "source": [
    "raw_count.sort_values(by='PHP').PHP.tail(10).plot.barh(width=1, color='pink')\n",
    "plt.title('What are the most common PHP words')"
   ]
  },
  {
   "cell_type": "code",
   "execution_count": 52,
   "metadata": {},
   "outputs": [
    {
     "data": {
      "text/plain": [
       "Text(0.5, 1.0, 'What are the most common Shell words')"
      ]
     },
     "execution_count": 52,
     "metadata": {},
     "output_type": "execute_result"
    },
    {
     "data": {
      "image/png": "[encoded data removed]",
      "text/plain": [
       "<Figure size 432x288 with 1 Axes>"
      ]
     },
     "metadata": {
      "needs_background": "light"
     },
     "output_type": "display_data"
    }
   ],
   "source": [
    "raw_count.sort_values(by='Shell').Shell.tail(10).plot.barh(width=1, color='green')\n",
    "plt.title('What are the most common Shell words')"
   ]
  },
  {
   "cell_type": "code",
   "execution_count": 56,
   "metadata": {},
   "outputs": [
    {
     "data": {
      "text/html": [
       "<div>\n",
       "<style scoped>\n",
       "    .dataframe tbody tr th:only-of-type {\n",
       "        vertical-align: middle;\n",
       "    }\n",
       "\n",
       "    .dataframe tbody tr th {\n",
       "        vertical-align: top;\n",
       "    }\n",
       "\n",
       "    .dataframe thead th {\n",
       "        text-align: right;\n",
       "    }\n",
       "</style>\n",
       "<table border=\"1\" class=\"dataframe\">\n",
       "  <thead>\n",
       "    <tr style=\"text-align: right;\">\n",
       "      <th></th>\n",
       "      <th>All</th>\n",
       "      <th>Python</th>\n",
       "      <th>JavaScript</th>\n",
       "      <th>PHP</th>\n",
       "      <th>Shell</th>\n",
       "    </tr>\n",
       "  </thead>\n",
       "  <tbody>\n",
       "    <tr>\n",
       "      <th>&amp;#9;</th>\n",
       "      <td>32</td>\n",
       "      <td>0</td>\n",
       "      <td>16</td>\n",
       "      <td>2</td>\n",
       "      <td>14</td>\n",
       "    </tr>\n",
       "    <tr>\n",
       "      <th>aaa</th>\n",
       "      <td>1</td>\n",
       "      <td>0</td>\n",
       "      <td>0</td>\n",
       "      <td>0</td>\n",
       "      <td>1</td>\n",
       "    </tr>\n",
       "    <tr>\n",
       "      <th>aaaffefadffffdebccbecffeeddffffdebffef</th>\n",
       "      <td>1</td>\n",
       "      <td>0</td>\n",
       "      <td>0</td>\n",
       "      <td>0</td>\n",
       "      <td>1</td>\n",
       "    </tr>\n",
       "    <tr>\n",
       "      <th>aac</th>\n",
       "      <td>3</td>\n",
       "      <td>2</td>\n",
       "      <td>1</td>\n",
       "      <td>0</td>\n",
       "      <td>0</td>\n",
       "    </tr>\n",
       "    <tr>\n",
       "      <th>aalaapfakeryoutube</th>\n",
       "      <td>1</td>\n",
       "      <td>0</td>\n",
       "      <td>0</td>\n",
       "      <td>1</td>\n",
       "      <td>0</td>\n",
       "    </tr>\n",
       "  </tbody>\n",
       "</table>\n",
       "</div>"
      ],
      "text/plain": [
       "                                        All  Python  JavaScript  PHP  Shell\n",
       "&#9;                                     32       0          16    2     14\n",
       "aaa                                       1       0           0    0      1\n",
       "aaaffefadffffdebccbecffeeddffffdebffef    1       0           0    0      1\n",
       "aac                                       3       2           1    0      0\n",
       "aalaapfakeryoutube                        1       0           0    1      0"
      ]
     },
     "execution_count": 56,
     "metadata": {},
     "output_type": "execute_result"
    }
   ],
   "source": [
    "raw_count.head()"
   ]
  },
  {
   "cell_type": "code",
   "execution_count": 80,
   "metadata": {
    "scrolled": true
   },
   "outputs": [
    {
     "data": {
      "text/html": [
       "<div>\n",
       "<style scoped>\n",
       "    .dataframe tbody tr th:only-of-type {\n",
       "        vertical-align: middle;\n",
       "    }\n",
       "\n",
       "    .dataframe tbody tr th {\n",
       "        vertical-align: top;\n",
       "    }\n",
       "\n",
       "    .dataframe thead th {\n",
       "        text-align: right;\n",
       "    }\n",
       "</style>\n",
       "<table border=\"1\" class=\"dataframe\">\n",
       "  <thead>\n",
       "    <tr style=\"text-align: right;\">\n",
       "      <th></th>\n",
       "      <th>raw_count</th>\n",
       "      <th>frequency</th>\n",
       "      <th>augmented_frequency</th>\n",
       "    </tr>\n",
       "  </thead>\n",
       "  <tbody>\n",
       "    <tr>\n",
       "      <th>&amp;#9;</th>\n",
       "      <td>32</td>\n",
       "      <td>0.000281</td>\n",
       "      <td>0.039506</td>\n",
       "    </tr>\n",
       "    <tr>\n",
       "      <th>aaa</th>\n",
       "      <td>1</td>\n",
       "      <td>0.000009</td>\n",
       "      <td>0.001235</td>\n",
       "    </tr>\n",
       "    <tr>\n",
       "      <th>aaaffefadffffdebccbecffeeddffffdebffef</th>\n",
       "      <td>1</td>\n",
       "      <td>0.000009</td>\n",
       "      <td>0.001235</td>\n",
       "    </tr>\n",
       "    <tr>\n",
       "      <th>aac</th>\n",
       "      <td>3</td>\n",
       "      <td>0.000026</td>\n",
       "      <td>0.003704</td>\n",
       "    </tr>\n",
       "    <tr>\n",
       "      <th>aalaapfakeryoutube</th>\n",
       "      <td>1</td>\n",
       "      <td>0.000009</td>\n",
       "      <td>0.001235</td>\n",
       "    </tr>\n",
       "  </tbody>\n",
       "</table>\n",
       "</div>"
      ],
      "text/plain": [
       "                                        raw_count  frequency  \\\n",
       "&#9;                                           32   0.000281   \n",
       "aaa                                             1   0.000009   \n",
       "aaaffefadffffdebccbecffeeddffffdebffef          1   0.000009   \n",
       "aac                                             3   0.000026   \n",
       "aalaapfakeryoutube                              1   0.000009   \n",
       "\n",
       "                                        augmented_frequency  \n",
       "&#9;                                               0.039506  \n",
       "aaa                                                0.001235  \n",
       "aaaffefadffffdebccbecffeeddffffdebffef             0.001235  \n",
       "aac                                                0.003704  \n",
       "aalaapfakeryoutube                                 0.001235  "
      ]
     },
     "execution_count": 80,
     "metadata": {},
     "output_type": "execute_result"
    }
   ],
   "source": [
    "tf_df = raw_count[['All']];\n",
    "tf_df = tf_df.rename(columns={'All': 'raw_count'})\n",
    "tf_df = tf_df.assign(frequency = lambda lemmas_df: lemmas_df.raw_count / lemmas_df.raw_count.sum())\n",
    "tf_df = tf_df.assign(augmented_frequency = lambda lemmas_df: lemmas_df.frequency / lemmas_df.frequency.max())\n",
    "tf_df.frequency.max()\n",
    "\n",
    "tf_df.head()\n"
   ]
  },
  {
   "cell_type": "code",
   "execution_count": 68,
   "metadata": {},
   "outputs": [
    {
     "data": {
      "text/plain": [
       "'iTerm Color Schemes\\n\\nIntro\\nInstallation Instructions\\nContribute\\nScreenshots\\nCredits\\nExtra\\n\\nX11 Installation\\nKonsole color schemes\\nTerminator color schemes\\nMac OS Terminal color schemes\\nPuTTY color schemes\\nXfce Terminal color schemes\\nFreeBSD vt(4) color schemes\\nPreviewing color schemes\\nMobaXterm color schemes\\nLXTerminal color schemes\\n\\n\\n\\nIntro\\nThis is a set of color schemes for iTerm (aka iTerm2). It also includes ports to Terminal, Konsole, PuTTY, Xresources, XRDB, Remmina, Termite, XFCE, Tilda, FreeBSD VT, Terminator, Kitty, MobaXterm, LXTerminal, Microsoft\\'s Windows Terminal, Visual Studio\\nScreenshots below and in the screenshots directory.\\nInstallation Instructions\\nThere are 2 ways to install an iTerm theme (both go to the same configuration location):\\n\\n\\nDirect way via keyboard shortcut:\\n\\nLaunch iTerm 2. Get the latest version at iterm2.com\\nType CMD+i (⌘+i)\\nNavigate to Colors tab\\nClick on Color Presets\\nClick on Import\\nClick on the schemes folder\\nSelect the .itermcolors profiles you would like to import\\nClick on Color Presets and choose a color scheme\\n\\n\\n\\nVia iTerm preferences\\n\\nLaunch iTerm 2. Get the latest version at iterm2.com\\nClick on iTerm2 menu title\\nSelect Preferences... option\\nSelect Profiles\\nNavigate to Colors tab\\nClick on Color Presets\\nClick on Import\\nSelect the .itermcolors file(s) of the schemes you\\'d like to use\\nClick on Color Presets and choose a color scheme\\n\\n\\n\\nContribute\\nHave a great iTerm theme? Send it to me via a Pull Request! To export your theme settings:\\n\\nLaunch iTerm 2\\nType CMD+i (⌘+i)\\nNavigate to Colors tab\\nClick on Color Presets\\nClick on Export\\nSave the .itermcolors file\\n\\nTo include a screenshot, please generate the output using the screenshotTable.sh script in the tools directory.\\nFor screenshot consistency, please have your font set to 13pt Monaco and no transparency on the window\\nIt would also be very helpful if you cd tools/ and run python3 update_all.py to generate all formats of your scheme\\nScreenshots\\n3024 Day\\n\\n3024 Night\\n\\nAdventureTime\\n\\nAfterglow\\n\\nAlienBlood\\n\\nAndromeda\\n\\nArgonaut\\n\\nArthur\\n\\nAtelierSulphurpool\\n\\nAtom\\n\\nAtom One Light\\n\\nayu\\n\\nayu Light\\n\\nBatman\\n\\nBelafonte Day\\n\\nBelafonte Night\\n\\nBirdsOfParadise\\n\\nBlazer\\n\\nBluloco Dark\\n\\nBluloco Light\\n\\nBorland\\n\\nBreeze\\n\\nBright Lights\\n\\nBroadcast\\n\\nBrogrammer\\n\\nBuiltin Dark\\n\\nBuiltin Light\\n\\nBuiltin Pastel Dark\\n\\nBuiltin Solarized Dark\\n\\nBuiltin Solarized Light\\n\\nBuiltin Tango Dark\\n\\nBuiltin Tango Light\\n\\nC64\\n\\nCalamity\\n\\nChalk\\n\\nChalkboard\\n\\nChallengerDeep\\n\\nChester\\n\\nCiapre\\n\\nCLRS\\n\\nCobalt Neon\\n\\nCobalt2\\n\\nCrayonPonyFish\\n\\nCyberpunk\\n\\nDark Pastel\\n\\nDark+\\n\\nDarkside\\n\\nDeep\\n\\nDesert\\n\\nDimmedMonokai\\n\\nDotGov\\n\\nDracula\\n\\nDuotone Dark\\n\\nEarthsong\\n\\nElemental\\n\\nElementary\\n\\nENCOM\\n\\nEspresso\\n\\nEspresso Libre\\n\\nFahrenheit\\n\\nFideloper\\n\\nFirefoxDev\\n\\nFirewatch\\n\\nFishTank\\n\\nFlat\\n\\nFlatland\\n\\nFloraverse\\n\\nForest Blue\\n\\nFramer\\n\\nFrontEndDelight\\n\\nFunForrest\\n\\nGalaxy\\n\\nGithub\\n\\nGlacier\\n\\nGrape\\n\\nGrass\\n\\nGruvbox Dark\\n\\nHacktober\\n\\nHardcore\\n\\nHarper\\n\\nHighway\\n\\nHipster Green\\n\\nHivacruz\\n\\nHomebrew\\n\\nHopscotch\\n\\nHopscotch 256\\n\\nHurtado\\n\\nHybrid\\n\\nIC_Green_PPL\\n\\nIC_Orange_PPL\\n\\nIDEA Drak\\n\\nidleToes\\n\\nIR_Black\\n\\nJackie Brown\\n\\nJapanesque\\n\\nJellybeans\\n\\nJetBrains Darcula\\n\\nKibble\\n\\nKolorit\\n\\nLab Fox\\n\\nLater This Evening\\n\\nLavandula\\n\\nLiquidCarbon\\n\\nLiquidCarbonTransparent\\n\\nLiquidCarbonTransparentInverse\\n\\nLoveLace\\n\\nMan Page\\n\\nMaterial\\n\\nMaterialDark\\n\\nMaterialOcean\\n\\nMathias\\n\\nMedallion\\n\\nMidnight In Mojave\\n\\nMisterioso\\n\\nMolokai\\n\\nMonaLisa\\n\\nMonokai Remastered\\n\\nMonokai Soda\\n\\nMonokai Vivid\\n\\nN0tch2k\\n\\nNeopolitan\\n\\nNeutron\\n\\nNightLion v1\\n\\nNightLion v2\\n\\nNight Owlish Light\\n\\nNovel\\n\\nNocturnal Winter\\n\\nObsidian\\n\\nOcean\\n\\nOceanicMaterial\\n\\nOllie\\n\\nOne Half Dark\\n\\nOne Half Light\\n\\nOperator Mono Dark\\n\\nPandora\\n\\nParasio Dark\\n\\nPaulMillr\\n\\nPencil Dark\\n\\nPencil Light\\n\\nPiatto Light\\n\\nPnevma\\n\\nPrimary\\n\\nPro\\n\\nPro Light\\n\\nPurple Peter\\n\\nPurple Rain\\n\\nRebecca\\n\\nRed Alert\\n\\nRed Planet\\n\\nRed Sands\\n\\nRelaxed\\n\\nRippedcasts\\n\\nRoyal\\n\\nRyuuko\\n\\nSeafoam Pastel\\n\\nSeaShells\\n\\nSeti\\n\\nShaman\\n\\nShades-Of-Purple\\n\\nSlate\\n\\nSleepyHollow\\n\\nSnazzy\\n\\nSmyck\\n\\nSoftServer\\n\\nSolarized Darcula (With background image)\\n\\nSolarized Darcula (Without background image)\\n\\nSolarized Dark - Patched\\nSome applications assume the ANSI color code 8 is a gray color. Solarized treats\\nthis code as equal to the background. This theme is for people who prefer the\\nformer. See issues #59, #62, and #63 for\\nmore information.\\n\\nSolarized Dark Higher Contrast\\n\\nSpaceGray\\n\\nSpaceGray Eighties\\n\\nSpaceGray Eighties Dull\\n\\nSpacedust\\n\\nSpiderman\\n\\nSpring\\n\\nSquare\\n\\nSubliminal\\n\\nSundried\\n\\nSymfonic\\n\\nsynthwave\\n\\nTango Adapted\\n\\nTango Half Adapted\\n\\nTeerb\\n\\nTerminal Basic\\n\\nThayer Bright\\n\\nThe Hulk\\n\\nTomorrow\\n\\nTomorrow Night\\n\\nTomorrow Night Blue\\n\\nTomorrow Night Bright\\n\\nTomorrow Night Eighties\\n\\nTomorrow Night Burns\\n\\nToyChest\\n\\nTreehouse\\n\\nTwilight\\n\\nUbuntu\\n\\nUltraViolent\\n\\nUnder The Sea\\n\\nUnikitty\\n\\nUrple\\n\\nVaughn\\n\\nVibrantInk\\n\\nViolet Light\\n\\nViolet Dark\\n\\nWarmNeon\\n\\nWez\\n\\nWhimsy\\n\\nWildCherry\\n\\nWombat\\n\\nWryan\\n\\nZenburn\\n\\nCredits\\nThe schemes Novel, Espresso, Grass, Homebrew, Ocean, Pro, Man Page, Red Sands, and Terminal Basic are ports of the schemes of the same name included with the Mac Terminal application. All of Terminal\\'s schemes have now been ported, with the exception of \"Solid Colors\" (random backgrounds, which iTerm doesn\\'t support) and \"Aerogel\" (which is hideous).\\nThe scheme Violet was created by ashfinal.\\nThe scheme idleToes was inspired by the idleFingers TextMate theme and suggested for inclusion by Seth Wilson.\\nThe scheme Zenburn was inspired by the Zenburn version created by Suraj N. Kurapati.\\nThe scheme Symfonic was inspired by the color scheme used in the documentation for the Symfony PHP Framework.\\nThe synthwave theme was created by brettstil\\nThe scheme Github was inspired by the color theme palette used at Github for their UI and in some of their mascot images.\\nThe scheme Solarized Darcula was inspired by the color theme created by @rickhanlonii. There are two screenshots below; one with a background and one without. The background image is included in the backgrounds/ directory and the image must be manually set on the profile\\'s Preferences->Window tab. It\\'s hard to see from the screenshot, but it looks great!\\nThe theme Hurtado was found here.\\nThe theme Molokai was based on the vim colorscheme of the same name.\\nThe theme Monokai Soda was found here.\\nThe theme Monokai Vivid was created by vitalymak.\\nThe theme Neopolitan was created by daytonn\\nThe theme Subliminal was created by gdsrosa\\nThe themes Solarized Dark and Solarized Light come from the official Solarized web site\\nThe Obsidian theme was on my hard drive and I don\\'t recall where it came from. If anyone knows, ping me and I\\'ll link back to the author(s).\\nThe Spacedust theme was created by mhallendal and ported to iTerm by Couto\\nThe theme Mathias was created by mathiasbynens\\nThe LiquidCarbon themes were created by markcho\\nThe NightLion themes were created by Curvve Media\\nThe Tomorrow themes were created by chriskempson\\nThe Tomorrow Night Burns theme were created by ashwinv11\\nThe Twilight theme was created by stefri\\nThe Teerb theme was created by Teerb\\nThe IR_Black theme was found here\\nThe Misterioso theme was created by flooose\\nThe Hybrid theme was found here\\nThe Thayer Bright theme was found here\\nThe Shades Of Purple theme was found here and ported by fr3fou\\nThe Spring theme was found here\\nThe Smyck theme was found here\\nThe Forest Blue theme was found here\\nThe Cobalt2 theme was created by wesbos\\nThe Operator Mono Dark was ported from vharadkou by dreamyguy\\nThe WarmNeon theme was ported from PyCharm by firewut\\nThe SpaceGray theme was created by ryentzer\\nThe Jellybeans theme was created by qtpi\\nThe PaulMillr theme was created by paulmillr and ported to iTerm by me\\nThe Harper theme was created by idleberg\\nThe CLRS theme was created by jasonlong\\nThe Dracula theme was created by zenorocha\\nThe themes AdventureTime, AlienBlood, BirdsOfParadise, Ciapre, CrayonPonyFish, DimmedMonokai, Earthsong, Elemental, FishTank, FrontEndDelight, FunForrest, Grape, Highway, IC_Green_PPL, IC_Orange_PPL, Lavandula, Medallion, MonaLisa, Ollie, Royal, SeaShells, Shaman, SleepyHollow, SoftServer, Sundried, ToyChest, Treehouse, and Urple were created by zdj\\nThe Japanesque theme was created by aereal\\nThe Seti theme was created by jesseweed and ported to iTerm2 by philduffy and slightly modified to make the ANSI blacks have a little more contrast\\nThe Hipster Green and Jackie Brown themes were created by Unkulunkulu\\nThe Chalk theme was created by achalv\\nThe Pencil Dark and Pencil Light themes were created by mattly\\nThe Flat theme was created by ahmetsulek\\nThe Atom, Brogrammer, Glacier and Darkside themes were created by bahlo\\nThe Afterglow theme was created by yabatadesign\\nThe Broadcast theme was created by vinkla\\nThe Arthur, N0tch2k, Pnevma, Square, and Wryan themes were created by baskerville\\nThe Belafonte Day, Belafonte Night, Paraiso Dark, and C64 themes were created by idleberg\\nThe 3024 Day and 3024 Night themes were created by 0x3024\\nThe Argonaut theme was created by effkay\\nThe Espresso Libre theme was created by jurgemaister\\nThe Hardcore theme was created by hardcore\\nThe Rippedcasts theme was created by mdw123\\nThe Solorized Dark Higher Contrast theme was created by heisters\\nThe VibrantInk theme was created by asanghi\\nThe Wez theme was created by wez\\nThe Wombat theme was created by djoyner\\nThe WildCherry theme was created by mashaal\\nThe Flatland theme was created by realchaseadams\\nThe Neutron theme was created by Ch4s3\\nThe Fideloper theme was inspired by Fideloper\\nThe Later This Evening theme was created by vilhalmer\\nThe Galaxy theme was created by jglovier\\nThe Slate theme was created by deneshshan\\nThe SpaceGray Eighties and SpaceGray Eighties Dull themes were created by mhkeller\\nThe Borland theme was created by delip\\nThe Cobalt Neon theme was created by vazquez\\nThe AtelierSulphurpool theme was created by atelierbram\\nThe Batman, Spiderman, and The Hulk themes were created by pyrophos\\nThe ENCOM theme was created by Josh Braun\\nThe Floraverse theme was created by papayakitty\\nThe Material and MaterialDark themes were created by stoeffel\\nThe OceanicMaterial theme was created by rahulpatel\\nThe MaterialOcean theme was found here and was ported by fr3fou\\nThe AtomOneLight theme was created by iamstarkov\\nThe Piatto Light theme was created by kovv\\nThe DotGov theme was inspired by the color palette used in the U.S. Web Design Standards\\nThe DuoTone Dark theme was created by chibicode based on simurai\\'s duotone-dark Atom theme.\\nThe JetBrains Darcula theme was created by vitstr\\nThe Bright Lights theme was created by tw15egan\\nThe Ubuntu theme was inspired by default Ubuntu\\'s console colors. Created by Maximus and ported to iTerm2 by stepin.\\nThe Under The Sea theme was created by peterpme\\nThe One Half themes were created by sonph, based on Atom\\'s One with some tweakings.\\nThe FirefoxDev theme was created by Or3stis\\nThe Ryuuko theme was created by dylanaraps and added by iandrewt\\nThe Firewatch theme was created by Sebastian Szturo as an atom syntax theme and ported to an iTerm scheme by Ben Styles. It was originally inspired by the Firewatch game.\\nThe Pandora theme was created by milosmatic\\nThe Elementary OS  theme was created by elementary.io and added by 987poiuytrewq\\nThe Gruvbox Dark  theme was created by morhetz and added by mcchrish\\nThe Ayu and Ayu Light  themes were created by alebcay\\nThe Deep  theme was created by ADoyle\\nThe Red Planet theme was created by ibrokemypie based on eliquious\\'s Red Planet Sublime Text theme.\\nThe Tango Adapted theme and its slightly less bright counterpart Tango Half Adapted were created by crowsonkb, based on iTerm2\\'s Tango Light theme.\\nThe Pro Light theme was adapted from the Pro theme by crowsonkb using her iterm_schemer tool.\\nThe Fahrenheit theme was created by jonascarpay based on fcpg\\'s vim-fahrenheit Vim theme.\\nThe Calamity theme was created by Pustur\\nThe Purple Peter theme was created by DeChamp\\nThe Purple Rain theme was created by msorre2\\nThe ChallengerDeep theme was found here and ported to iTerm by eendroroy\\nThe Hopscotch theme was created by Jan T. Sott\\nThe Hivacruz theme was created by Yann Defretin\\nThe Nocturnal Winter theme was created by Shriram Balaji\\nThe Rebecca theme was created vic based on his emacs rebecca-theme\\nThe Whimsy theme was created by Rod\\nThe Chester theme was created by KH\\nThe Kolorit theme was created by thomaspaulmann\\nThe Cyberpunk theme was created by Murderlon\\nThe LoveLace theme was created by nalanbar based on a dotfile from elenapan\\nThe Framer theme was created by markogresak based on Framer Syntax Theme provided by Framer.\\nThe Lab Fox theme was created by theatlasroom inspired by the Gitlab design system\\nThe Unikitty theme was created by jakebathman\\nThe Primary theme was created by jayanthkoushik based on Google\\'s vim colorscheme.\\nThe Andromeda theme was created by memije based on EliverLara\\'s Andromeda VS Code theme.\\nThe Night Owlish Light theme was created by praveenpuglia based on sdras\\'s Night Owl VS Code theme.\\nThe Midnight In Mojave theme was created by OberstKrueger based on the colors outlined in the Human Interface Guidelines\\nThe Breeze theme was based on the Breeze color scheme by KDE and ported to iTerm by nieltg\\nIf there are other color schemes you\\'d like to see included, drop me a line!\\nExtra\\nX11 Installation\\nTo install under the X Window System:\\n\\n\\nImport the .xrdb file of the scheme you\\'d like to use:\\n  #include \"/home/mbadolato/iTerm2-Color-Schemes/xrdb/Blazer.xrdb\"\\n\\n\\n\\nUse the #defines provided by the imported .xrdb file:\\n  Rxvt*color0:       Ansi_0_Color\\n  Rxvt*color1:       Ansi_1_Color\\n  Rxvt*color2:       Ansi_2_Color\\n  Rxvt*color3:       Ansi_3_Color\\n  Rxvt*color4:       Ansi_4_Color\\n  Rxvt*color5:       Ansi_5_Color\\n  Rxvt*color6:       Ansi_6_Color\\n  Rxvt*color7:       Ansi_7_Color\\n  Rxvt*color8:       Ansi_8_Color\\n  Rxvt*color9:       Ansi_9_Color\\n  Rxvt*color10:      Ansi_10_Color\\n  Rxvt*color11:      Ansi_11_Color\\n  Rxvt*color12:      Ansi_12_Color\\n  Rxvt*color13:      Ansi_13_Color\\n  Rxvt*color14:      Ansi_14_Color\\n  Rxvt*color15:      Ansi_15_Color\\n  Rxvt*colorBD:      Bold_Color\\n  Rxvt*colorIT:      Italic_Color\\n  Rxvt*colorUL:      Underline_Color\\n  Rxvt*foreground:   Foreground_Color\\n  Rxvt*background:   Background_Color\\n  Rxvt*cursorColor:  Cursor_Color\\n\\n  XTerm*color0:      Ansi_0_Color\\n  XTerm*color1:      Ansi_1_Color\\n  XTerm*color2:      Ansi_2_Color\\n  XTerm*color3:      Ansi_3_Color\\n  XTerm*color4:      Ansi_4_Color\\n  XTerm*color5:      Ansi_5_Color\\n  XTerm*color6:      Ansi_6_Color\\n  XTerm*color7:      Ansi_7_Color\\n  XTerm*color8:      Ansi_8_Color\\n  XTerm*color9:      Ansi_9_Color\\n  XTerm*color10:     Ansi_10_Color\\n  XTerm*color11:     Ansi_11_Color\\n  XTerm*color12:     Ansi_12_Color\\n  XTerm*color13:     Ansi_13_Color\\n  XTerm*color14:     Ansi_14_Color\\n  XTerm*color15:     Ansi_15_Color\\n  XTerm*colorBD:     Bold_Color\\n  XTerm*colorIT:     Italic_Color\\n  XTerm*colorUL:     Underline_Color\\n  XTerm*foreground:  Foreground_Color\\n  XTerm*background:  Background_Color\\n  XTerm*cursorColor: Cursor_Color\\n\\n\\n\\nStore the above snippets in a file and pass it in:\\n  $ xrdb -merge YOUR_FILE_CONTAINING_ABOVE_SNIPPETS\\n\\n\\n\\nOpen new XTerm or Rxvt windows to see the changes.\\n\\n\\nAdapt this procedure to other terminals as needed.\\n\\n\\nTerminator color schemes\\nEdit your Terminator configuration file (located in: $HOME/.config/terminator/config) and add the configurations for the theme(s) you\\'d like to use the [profiles] section. The terminator/ directory contains the config snippets you\\'ll need. Just paste the configurations into the [profiles] sections, and you\\'re good to go!\\nAt a minimum, this is all you need. You can customize the fonts and other aspects as well, if you wish. See the Terminator documentation for more details.\\nAn example config file that includes the code snippet for the Symfonic theme would look like this:\\n[global_config]\\n    [keybindings]\\n    [profiles]\\n      [[default]]\\n        palette = \"#1a1a1a:#f4005f:#98e024:#fa8419:#9d65ff:#f4005f:#58d1eb:#c4c5b5:#625e4c:#f4005f:#98e024:#e0d561:#9d65ff:#f4005f:#58d1eb:#f6f6ef\"\\n        background_image = None\\n        use_system_font = False\\n        cursor_color = \"#f6f7ec\"\\n        foreground_color = \"#c4c5b5\"\\n        font = Source Code Pro Light 11\\n        background_color = \"#1a1a1a\"\\n      [[Symfonic]]\\n        palette = \"#000000:#dc322f:#56db3a:#ff8400:#0084d4:#b729d9:#ccccff:#ffffff:#1b1d21:#dc322f:#56db3a:#ff8400:#0084d4:#b729d9:#ccccff:#ffffff\"\\n        background_color = \"#000000\"\\n        cursor_color = \"#dc322f\"\\n        foreground_color = \"#ffffff\"\\n        background_image = None\\n    [layouts]\\n      [[default]]\\n        [[[child1]]]\\n          type = Terminal\\n          parent = window0\\n        [[[window0]]]\\n          type = Window\\n          parent = \"\"\\n    [plugins]\\nKonsole color schemes\\nCopy the themes from the konsole directory to $HOME/.config/konsole (in some versions of KDE, the theme directory may be located at $HOME/.local/share/konsole), restart Konsole and choose your new theme from the profile preferences window.\\nIf you want to make the themes available to all users, copy the .colorscheme files to /usr/share/konsole.\\nTerminal color schemes\\nJust double click on selected theme in terminal directory\\nPuTTY color schemes\\nNew Session Method\\nThis method creates a new blank session with JUST colors set properly.\\nDownload the appropriate colorscheme.reg file and import the registry changes by right-clicking and choosing Merge. Choose \"Yes\" when prompted if you\\'re sure. Color scheme will show up as a new PuTTY session with all defaults except entries at Window > Colours > Adjust the precise colours PuTTY displays.\\nModify Session Method\\nThis method modifies an existing session and changes JUST the color settings.\\nDownload the appropriate colorscheme.reg file. Open the file with a text editor and change the color scheme portion (Molokai below) to match the session you want to modify:\\n[HKEY_CURRENT_USER\\\\Software\\\\SimonTatham\\\\PuTTY\\\\Sessions\\\\Molokai]\\n- CHANGE TO (EXAMPLE) -\\n[HKEY_CURRENT_USER\\\\Software\\\\SimonTatham\\\\PuTTY\\\\Sessions\\\\root@localhost]\\n\\nNOTE: Some special characters will need to be changed to their Percent-encoded representation (IE, Space as %20). To quickly find the right session name view the top-level entries at HKEY_CURRENT_USER\\\\Software\\\\SimonTatham\\\\PuTTY\\\\Sessions\\\\ with regedit.exe.\\nOther PuTTY Recommendations\\nWindow > Apprearance\\n\\tFont: Consolas, bold, 14-point\\n\\tFont quality:\\n\\t\\t( ) Antialiased     ( ) Non-Antialiased\\n\\t\\t(O) ClearType       ( ) Default\\nWindow > Colours\\n\\t[X] Allow terminal to specify ANSI colours\\n\\t[X] Allow terminal to use xterm 256-colour mode\\n\\tIndicate bolded text by changing:\\n\\t\\t( ) The font   (O) The colour   ( ) Both\\n\\t[ ] Attempt to use logical palettes\\n\\t[ ] Use system colours\\n\\nXfce Terminal color schemes\\nCopy the colorschemes folder to ~/.local/share/xfce4/terminal/ and restart Terminal.\\nFreeBSD vt color schemes\\nAppend your favourite theme from freebsd_vt/ to /boot/loader.conf\\nor /boot/loader.conf.local and reboot.\\nMobaXterm color schemes\\nCopy the theme content form mobaxterm/ and paste the content to your MobaXterm.ini in the corresponding place. ([Colors])\\nLXTerminal color schemes\\nCopy the theme content form lxterminal/ and paste the content to your lxterminal in the corresponding place. ([general])\\nVisual Studio Code (vscode) color schemes\\nCopy the theme content into your UserSettings.json\\nPreviewing color schemes\\npreview.rb is a simple script that allows you to preview\\nthe color schemes without having to import them. It parses .itermcolors files\\nand applies the colors to the current session using iTerm\\'s proprietary\\nescape codes. As noted in\\nthe linked page, it doesn\\'t run on tmux or screen.\\n# Apply AdventureTime scheme to the current session\\ntools/preview.rb schemes/AdventureTime.itermcolors\\n\\n# Apply the schemes in turn.\\n# - Press (almost) any key to advance; hit CTRL-C or ESC to stop\\n# - Press the delete key to go back\\ntools/preview.rb schemes/*\\n\\niTerm Color Schemes | iTerm2 Color Schemes | iTerm 2 Color Schemes | iTerm Themes | iTerm2 Themes | iTerm 2 Themes\\n\\n'"
      ]
     },
     "execution_count": 68,
     "metadata": {},
     "output_type": "execute_result"
    }
   ],
   "source": [
    "mask = lemmas_df.lemmatized.apply(lambda x: '&#9;' in x)\n",
    "\n",
    "df.original[74]"
   ]
  },
  {
   "cell_type": "code",
   "execution_count": 69,
   "metadata": {},
   "outputs": [
    {
     "data": {
      "text/plain": [
       "'iterm color schemes intro installation instructions contribute screenshots credits extra x installation konsole color schemes terminator color schemes mac os terminal color schemes putty color schemes xfce terminal color schemes freebsd vt color schemes previewing color schemes mobaxterm color schemes lxterminal color schemes intro set color schemes iterm aka iterm also includes ports terminal konsole putty xresources xrdb remmina termite xfce tilda freebsd vt terminator kitty mobaxterm lxterminal microsofts windows terminal visual studio screenshots screenshots directory installation instructions ways install iterm theme go configuration location direct way via keyboard shortcut launch iterm get latest version itermcom type cmdi navigate colors tab click color presets click import click schemes folder select itermcolors profiles would like import click color presets choose color scheme via iterm preferences launch iterm get latest version itermcom click iterm menu title select preferences option select profiles navigate colors tab click color presets click import select itermcolors files schemes youd like use click color presets choose color scheme contribute great iterm theme send via pull request export theme settings launch iterm type cmdi navigate colors tab click color presets click export save itermcolors file include screenshot please generate output using screenshottablesh script tools directory screenshot consistency please font set pt monaco transparency window would also helpful cd tools run python updateallpy generate formats scheme screenshots day night adventuretime afterglow alienblood andromeda argonaut arthur ateliersulphurpool atom atom one light ayu ayu light batman belafonte day belafonte night birdsofparadise blazer bluloco dark bluloco light borland breeze bright lights broadcast brogrammer builtin dark builtin light builtin pastel dark builtin solarized dark builtin solarized light builtin tango dark builtin tango light c calamity chalk chalkboard challengerdeep chester ciapre clrs cobalt neon cobalt crayonponyfish cyberpunk dark pastel dark darkside deep desert dimmedmonokai dotgov dracula duotone dark earthsong elemental elementary encom espresso espresso libre fahrenheit fideloper firefoxdev firewatch fishtank flat flatland floraverse forest blue framer frontenddelight funforrest galaxy github glacier grape grass gruvbox dark hacktober hardcore harper highway hipster green hivacruz homebrew hopscotch hopscotch hurtado hybrid icgreenppl icorangeppl idea drak idletoes irblack jackie brown japanesque jellybeans jetbrains darcula kibble kolorit lab fox later evening lavandula liquidcarbon liquidcarbontransparent liquidcarbontransparentinverse lovelace man page material materialdark materialocean mathias medallion midnight mojave misterioso molokai monalisa monokai remastered monokai soda monokai vivid ntchk neopolitan neutron nightlion v nightlion v night owlish light novel nocturnal winter obsidian ocean oceanicmaterial ollie one half dark one half light operator mono dark pandora parasio dark paulmillr pencil dark pencil light piatto light pnevma primary pro pro light purple peter purple rain rebecca red alert red planet red sands relaxed rippedcasts royal ryuuko seafoam pastel seashells seti shaman shadesofpurple slate sleepyhollow snazzy smyck softserver solarized darcula background image solarized darcula without background image solarized dark patched applications assume ansi color code gray color solarized treats code equal background theme people prefer former see issues information solarized dark higher contrast spacegray spacegray eighties spacegray eighties dull spacedust spiderman spring square subliminal sundried symfonic synthwave tango adapted tango half adapted teerb terminal basic thayer bright hulk tomorrow tomorrow night tomorrow night blue tomorrow night bright tomorrow night eighties tomorrow night burns toychest treehouse twilight ubuntu ultraviolent sea unikitty urple vaughn vibrantink violet light violet dark warmneon wez whimsy wildcherry wombat wryan zenburn credits schemes novel espresso grass homebrew ocean pro man page red sands terminal basic ports schemes name included mac terminal application terminals schemes ported exception solid colors random backgrounds iterm doesnt support aerogel hideous scheme violet created ashfinal scheme idletoes inspired idlefingers textmate theme suggested inclusion seth wilson scheme zenburn inspired zenburn version created suraj n kurapati scheme symfonic inspired color scheme used documentation symfony php framework synthwave theme created brettstil scheme github inspired color theme palette used github ui mascot images scheme solarized darcula inspired color theme created rickhanlonii two screenshots one background one without background image included backgrounds directory image must manually set profiles preferenceswindow tab hard see screenshot looks great theme hurtado found theme molokai based vim colorscheme name theme monokai soda found theme monokai vivid created vitalymak theme neopolitan created daytonn theme subliminal created gdsrosa themes solarized dark solarized light come official solarized web site obsidian theme hard drive dont recall came anyone knows ping ill link back authors spacedust theme created mhallendal ported iterm couto theme mathias created mathiasbynens liquidcarbon themes created markcho nightlion themes created curvve media tomorrow themes created chriskempson tomorrow night burns theme created ashwinv twilight theme created stefri teerb theme created teerb irblack theme found misterioso theme created flooose hybrid theme found thayer bright theme found shades purple theme found ported frfou spring theme found smyck theme found forest blue theme found cobalt theme created wesbos operator mono dark ported vharadkou dreamyguy warmneon theme ported pycharm firewut spacegray theme created ryentzer jellybeans theme created qtpi paulmillr theme created paulmillr ported iterm harper theme created idleberg clrs theme created jasonlong dracula theme created zenorocha themes adventuretime alienblood birdsofparadise ciapre crayonponyfish dimmedmonokai earthsong elemental fishtank frontenddelight funforrest grape highway icgreenppl icorangeppl lavandula medallion monalisa ollie royal seashells shaman sleepyhollow softserver sundried toychest treehouse urple created zdj japanesque theme created aereal seti theme created jesseweed ported iterm philduffy slightly modified make ansi blacks little contrast hipster green jackie brown themes created unkulunkulu chalk theme created achalv pencil dark pencil light themes created mattly flat theme created ahmetsulek atom brogrammer glacier darkside themes created bahlo afterglow theme created yabatadesign broadcast theme created vinkla arthur ntchk pnevma square wryan themes created baskerville belafonte day belafonte night paraiso dark c themes created idleberg day night themes created x argonaut theme created effkay espresso libre theme created jurgemaister hardcore theme created hardcore rippedcasts theme created mdw solorized dark higher contrast theme created heisters vibrantink theme created asanghi wez theme created wez wombat theme created djoyner wildcherry theme created mashaal flatland theme created realchaseadams neutron theme created chs fideloper theme inspired fideloper later evening theme created vilhalmer galaxy theme created jglovier slate theme created deneshshan spacegray eighties spacegray eighties dull themes created mhkeller borland theme created delip cobalt neon theme created vazquez ateliersulphurpool theme created atelierbram batman spiderman hulk themes created pyrophos encom theme created josh braun floraverse theme created papayakitty material materialdark themes created stoeffel oceanicmaterial theme created rahulpatel materialocean theme found ported frfou atomonelight theme created iamstarkov piatto light theme created kovv dotgov theme inspired color palette used us web design standards duotone dark theme created chibicode based simurais duotonedark atom theme jetbrains darcula theme created vitstr bright lights theme created twegan ubuntu theme inspired default ubuntus console colors created maximus ported iterm stepin sea theme created peterpme one half themes created sonph based atoms one tweakings firefoxdev theme created orstis ryuuko theme created dylanaraps added iandrewt firewatch theme created sebastian szturo atom syntax theme ported iterm scheme ben styles originally inspired firewatch game pandora theme created milosmatic elementary os theme created elementaryio added poiuytrewq gruvbox dark theme created morhetz added mcchrish ayu ayu light themes created alebcay deep theme created adoyle red planet theme created ibrokemypie based eliquiouss red planet sublime text theme tango adapted theme slightly less bright counterpart tango half adapted created crowsonkb based iterms tango light theme pro light theme adapted pro theme crowsonkb using itermschemer tool fahrenheit theme created jonascarpay based fcpgs vimfahrenheit vim theme calamity theme created pustur purple peter theme created dechamp purple rain theme created msorre challengerdeep theme found ported iterm eendroroy hopscotch theme created jan sott hivacruz theme created yann defretin nocturnal winter theme created shriram balaji rebecca theme created vic based emacs rebeccatheme whimsy theme created rod chester theme created kh kolorit theme created thomaspaulmann cyberpunk theme created murderlon lovelace theme created nalanbar based dotfile elenapan framer theme created markogresak based framer syntax theme provided framer lab fox theme created theatlasroom inspired gitlab design system unikitty theme created jakebathman primary theme created jayanthkoushik based googles vim colorscheme andromeda theme created memije based eliverlaras andromeda vs code theme night owlish light theme created praveenpuglia based sdrass night owl vs code theme midnight mojave theme created oberstkrueger based colors outlined human interface guidelines breeze theme based breeze color scheme kde ported iterm nieltg color schemes youd like see included drop line extra x installation install x window system import xrdb file scheme youd like use include homembadolatoitermcolorschemesxrdbblazerxrdb use defines provided imported xrdb file rxvtcolor ansicolor rxvtcolor ansicolor rxvtcolor ansicolor rxvtcolor ansicolor rxvtcolor ansicolor rxvtcolor ansicolor rxvtcolor ansicolor rxvtcolor ansicolor rxvtcolor ansicolor rxvtcolor ansicolor rxvtcolor ansicolor rxvtcolor ansicolor rxvtcolor ansicolor rxvtcolor ansicolor rxvtcolor ansicolor rxvtcolor ansicolor rxvtcolorbd boldcolor rxvtcolorit italiccolor rxvtcolorul underlinecolor rxvtforeground foregroundcolor rxvtbackground backgroundcolor rxvtcursorcolor cursorcolor xtermcolor ansicolor xtermcolor ansicolor xtermcolor ansicolor xtermcolor ansicolor xtermcolor ansicolor xtermcolor ansicolor xtermcolor ansicolor xtermcolor ansicolor xtermcolor ansicolor xtermcolor ansicolor xtermcolor ansicolor xtermcolor ansicolor xtermcolor ansicolor xtermcolor ansicolor xtermcolor ansicolor xtermcolor ansicolor xtermcolorbd boldcolor xtermcolorit italiccolor xtermcolorul underlinecolor xtermforeground foregroundcolor xtermbackground backgroundcolor xtermcursorcolor cursorcolor store snippets file pass xrdb merge yourfilecontainingabovesnippets open new xterm rxvt windows see changes adapt procedure terminals needed terminator color schemes edit terminator configuration file located homeconfigterminatorconfig add configurations themes youd like use profiles section terminator directory contains config snippets youll need paste configurations profiles sections youre good go minimum need customize fonts aspects well wish see terminator documentation details example config file includes code snippet symfonic theme would look like globalconfig keybindings profiles default palette aaaffefadffffdebccbecffeeddffffdebffef backgroundimage none usesystemfont false cursorcolor ffec foregroundcolor ccb font source code pro light backgroundcolor aaa symfonic palette dcfdbaffdbdccccffffffffbddcfdbaffdbdccccffffffff backgroundcolor cursorcolor dcf foregroundcolor ffffff backgroundimage none layouts default child type terminal parent window window type window parent plugins konsole color schemes copy themes konsole directory homeconfigkonsole versions kde theme directory may located homelocalsharekonsole restart konsole choose new theme profile preferences window want make themes available users copy colorscheme files usrsharekonsole terminal color schemes double click selected theme terminal directory putty color schemes new session method method creates new blank session colors set properly download appropriate colorschemereg file import registry changes rightclicking choosing merge choose yes prompted youre sure color scheme show new putty session defaults except entries window colours adjust precise colours putty displays modify session method method modifies existing session changes color settings download appropriate colorschemereg file open file text editor change color scheme portion molokai match session want modify hkeycurrentusersoftwaresimontathamputtysessionsmolokai change example hkeycurrentusersoftwaresimontathamputtysessionsrootlocalhost note special characters need changed percentencoded representation ie space quickly find right session name view toplevel entries hkeycurrentusersoftwaresimontathamputtysessions regeditexe putty recommendations window apprearance &#9; font consolas bold point &#9; font quality &#9; &#9; antialiased nonantialiased &#9; &#9; cleartype default window colours &#9; x allow terminal specify ansi colours &#9; x allow terminal use xterm colour mode &#9; indicate bolded text changing &#9; &#9; font colour &#9; attempt use logical palettes &#9; use system colours xfce terminal color schemes copy colorschemes folder localsharexfceterminal restart terminal freebsd vt color schemes append favourite theme freebsdvt bootloaderconf bootloaderconflocal reboot mobaxterm color schemes copy theme content form mobaxterm paste content mobaxtermini corresponding place colors lxterminal color schemes copy theme content form lxterminal paste content lxterminal corresponding place general visual studio code vscode color schemes copy theme content usersettingsjson previewing color schemes previewrb simple script allows preview color schemes without import parses itermcolors files applies colors current session using iterms proprietary escape codes noted linked page doesnt run tmux screen apply adventuretime scheme current session toolspreviewrb schemesadventuretimeitermcolors apply schemes turn press almost key advance hit ctrlc esc stop press delete key go back toolspreviewrb schemes iterm color schemes iterm color schemes iterm color schemes iterm themes iterm themes iterm themes'"
      ]
     },
     "execution_count": 69,
     "metadata": {},
     "output_type": "execute_result"
    }
   ],
   "source": [
    "df.cleaned[74]"
   ]
  },
  {
   "cell_type": "code",
   "execution_count": null,
   "metadata": {},
   "outputs": [],
   "source": []
  }
 ],
 "metadata": {
  "kernelspec": {
   "display_name": "Python 3",
   "language": "python",
   "name": "python3"
  },
  "language_info": {
   "codemirror_mode": {
    "name": "ipython",
    "version": 3
   },
   "file_extension": ".py",
   "mimetype": "text/x-python",
   "name": "python",
   "nbconvert_exporter": "python",
   "pygments_lexer": "ipython3",
   "version": "3.7.3"
  }
 },
 "nbformat": 4,
 "nbformat_minor": 2
}
