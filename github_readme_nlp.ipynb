{
 "cells": [
  {
   "cell_type": "markdown",
   "metadata": {},
   "source": [
    "# github_readme_nlp"
   ]
  },
  {
   "cell_type": "code",
   "execution_count": 1,
   "metadata": {},
   "outputs": [],
   "source": [
    "# Setup environment\n",
    "import pandas as pd\n",
    "from requests import get\n",
    "from bs4 import BeautifulSoup\n",
    "import os\n",
    "import time\n",
    "import pandas as pd\n",
    "import numpy as np\n",
    "import unicodedata\n",
    "import re\n",
    "import json\n",
    "import os\n",
    "import nltk\n",
    "from nltk.tokenize.toktok import ToktokTokenizer\n",
    "from nltk.corpus import stopwords\n",
    "\n",
    "import matplotlib.pyplot as plt\n",
    "import seaborn as sns\n",
    "\n",
    "# matplotlib default plotting styles\n",
    "plt.rc(\"patch\", edgecolor=\"black\", force_edgecolor=True)\n",
    "plt.rc(\"axes\", grid=True)\n",
    "plt.rc(\"grid\", linestyle=\":\", linewidth=0.8, alpha=0.7)\n",
    "plt.rc(\"axes.spines\", right=False, top=False)\n",
    "plt.rc(\"figure\", figsize=(11, 8))\n",
    "plt.rc(\"font\", size=12.0)\n",
    "plt.rc(\"hist\", bins=25)\n",
    "\n",
    "import warnings\n",
    "warnings.filterwarnings('ignore')\n",
    "\n",
    "import acquire\n",
    "import prepare"
   ]
  },
  {
   "cell_type": "markdown",
   "metadata": {},
   "source": [
    "## Acquire/Prepare\n",
    "\n",
    "**Task** show steps to acquire and prepare\n",
    "\n",
    "- original, cleaned, stem, lemmatize notes"
   ]
  },
  {
   "cell_type": "code",
   "execution_count": 2,
   "metadata": {},
   "outputs": [],
   "source": [
    "df = prepare.get_prepped()"
   ]
  },
  {
   "cell_type": "code",
   "execution_count": 3,
   "metadata": {},
   "outputs": [
    {
     "data": {
      "text/html": [
       "<div>\n",
       "<style scoped>\n",
       "    .dataframe tbody tr th:only-of-type {\n",
       "        vertical-align: middle;\n",
       "    }\n",
       "\n",
       "    .dataframe tbody tr th {\n",
       "        vertical-align: top;\n",
       "    }\n",
       "\n",
       "    .dataframe thead th {\n",
       "        text-align: right;\n",
       "    }\n",
       "</style>\n",
       "<table border=\"1\" class=\"dataframe\">\n",
       "  <thead>\n",
       "    <tr style=\"text-align: right;\">\n",
       "      <th></th>\n",
       "      <th>language</th>\n",
       "      <th>title</th>\n",
       "      <th>original</th>\n",
       "      <th>cleaned</th>\n",
       "      <th>stemmed</th>\n",
       "      <th>lemmatized</th>\n",
       "    </tr>\n",
       "  </thead>\n",
       "  <tbody>\n",
       "    <tr>\n",
       "      <th>0</th>\n",
       "      <td>Python</td>\n",
       "      <td>GitHub - donnemartin/system-design-primer: Lea...</td>\n",
       "      <td>English ∙ 日本語 ∙ 简体中文 ∙ 繁體中文 | العَرَبِيَّة‎ ∙ ...</td>\n",
       "      <td>english portugues brasil deutsch italiano pols...</td>\n",
       "      <td>english portugu brasil deutsch italiano polski...</td>\n",
       "      <td>english portugues brasil deutsch italiano pols...</td>\n",
       "    </tr>\n",
       "    <tr>\n",
       "      <th>1</th>\n",
       "      <td>Python</td>\n",
       "      <td>GitHub - vinta/awesome-python: A curated list ...</td>\n",
       "      <td>Awesome Python \\nA curated list of awesome Pyt...</td>\n",
       "      <td>awesome python curated list awesome python fra...</td>\n",
       "      <td>awesom python curat list awesom python framewo...</td>\n",
       "      <td>awesome python curated list awesome python fra...</td>\n",
       "    </tr>\n",
       "    <tr>\n",
       "      <th>2</th>\n",
       "      <td>Python</td>\n",
       "      <td>GitHub - public-apis/public-apis: A collective...</td>\n",
       "      <td>Public APIs \\nA collective list of free APIs f...</td>\n",
       "      <td>public apis collective list free apis use soft...</td>\n",
       "      <td>public api collect list free api use softwar w...</td>\n",
       "      <td>public apis collective list free apis use soft...</td>\n",
       "    </tr>\n",
       "    <tr>\n",
       "      <th>3</th>\n",
       "      <td>Python</td>\n",
       "      <td>GitHub - TheAlgorithms/Python: All Algorithms ...</td>\n",
       "      <td>The Algorithms - Python\\n \\n \\n \\n \\n \\n \\nAll...</td>\n",
       "      <td>algorithms python algorithms implemented pytho...</td>\n",
       "      <td>algorithm python algorithm implement python ed...</td>\n",
       "      <td>algorithm python algorithm implemented python ...</td>\n",
       "    </tr>\n",
       "    <tr>\n",
       "      <th>4</th>\n",
       "      <td>Python</td>\n",
       "      <td>GitHub - tensorflow/models: Models and example...</td>\n",
       "      <td>TensorFlow Models\\nThis repository contains a ...</td>\n",
       "      <td>tensorflow models repository contains number d...</td>\n",
       "      <td>tensorflow model repositori contain number dif...</td>\n",
       "      <td>tensorflow model repository contains number di...</td>\n",
       "    </tr>\n",
       "  </tbody>\n",
       "</table>\n",
       "</div>"
      ],
      "text/plain": [
       "  language                                              title  \\\n",
       "0   Python  GitHub - donnemartin/system-design-primer: Lea...   \n",
       "1   Python  GitHub - vinta/awesome-python: A curated list ...   \n",
       "2   Python  GitHub - public-apis/public-apis: A collective...   \n",
       "3   Python  GitHub - TheAlgorithms/Python: All Algorithms ...   \n",
       "4   Python  GitHub - tensorflow/models: Models and example...   \n",
       "\n",
       "                                            original  \\\n",
       "0  English ∙ 日本語 ∙ 简体中文 ∙ 繁體中文 | العَرَبِيَّة‎ ∙ ...   \n",
       "1  Awesome Python \\nA curated list of awesome Pyt...   \n",
       "2  Public APIs \\nA collective list of free APIs f...   \n",
       "3  The Algorithms - Python\\n \\n \\n \\n \\n \\n \\nAll...   \n",
       "4  TensorFlow Models\\nThis repository contains a ...   \n",
       "\n",
       "                                             cleaned  \\\n",
       "0  english portugues brasil deutsch italiano pols...   \n",
       "1  awesome python curated list awesome python fra...   \n",
       "2  public apis collective list free apis use soft...   \n",
       "3  algorithms python algorithms implemented pytho...   \n",
       "4  tensorflow models repository contains number d...   \n",
       "\n",
       "                                             stemmed  \\\n",
       "0  english portugu brasil deutsch italiano polski...   \n",
       "1  awesom python curat list awesom python framewo...   \n",
       "2  public api collect list free api use softwar w...   \n",
       "3  algorithm python algorithm implement python ed...   \n",
       "4  tensorflow model repositori contain number dif...   \n",
       "\n",
       "                                          lemmatized  \n",
       "0  english portugues brasil deutsch italiano pols...  \n",
       "1  awesome python curated list awesome python fra...  \n",
       "2  public apis collective list free apis use soft...  \n",
       "3  algorithm python algorithm implemented python ...  \n",
       "4  tensorflow model repository contains number di...  "
      ]
     },
     "execution_count": 3,
     "metadata": {},
     "output_type": "execute_result"
    }
   ],
   "source": [
    "df.head()"
   ]
  },
  {
   "cell_type": "markdown",
   "metadata": {},
   "source": [
    "## Prep Summary\n",
    "\n",
    "- Create data frame with cleaned data and language listed."
   ]
  },
  {
   "cell_type": "code",
   "execution_count": 4,
   "metadata": {},
   "outputs": [],
   "source": [
    "lemmas_df = df[['language', 'title', 'lemmatized']]"
   ]
  },
  {
   "cell_type": "markdown",
   "metadata": {},
   "source": [
    "## Explore & Define Features\n",
    "\n",
    "### Category Distribution"
   ]
  },
  {
   "cell_type": "code",
   "execution_count": 5,
   "metadata": {},
   "outputs": [],
   "source": [
    "lemmas_df.dropna(inplace=True)"
   ]
  },
  {
   "cell_type": "code",
   "execution_count": 6,
   "metadata": {},
   "outputs": [
    {
     "data": {
      "text/plain": [
       "(79, 3)"
      ]
     },
     "execution_count": 6,
     "metadata": {},
     "output_type": "execute_result"
    }
   ],
   "source": [
    "lemmas_df.shape"
   ]
  },
  {
   "cell_type": "code",
   "execution_count": 7,
   "metadata": {},
   "outputs": [
    {
     "data": {
      "text/plain": [
       "JavaScript    0.253165\n",
       "Shell         0.253165\n",
       "Python        0.253165\n",
       "PHP           0.240506\n",
       "Name: language, dtype: float64"
      ]
     },
     "execution_count": 7,
     "metadata": {},
     "output_type": "execute_result"
    }
   ],
   "source": [
    "lemmas_df.language.value_counts(normalize = True)"
   ]
  },
  {
   "cell_type": "code",
   "execution_count": 8,
   "metadata": {},
   "outputs": [
    {
     "data": {
      "text/html": [
       "<div>\n",
       "<style scoped>\n",
       "    .dataframe tbody tr th:only-of-type {\n",
       "        vertical-align: middle;\n",
       "    }\n",
       "\n",
       "    .dataframe tbody tr th {\n",
       "        vertical-align: top;\n",
       "    }\n",
       "\n",
       "    .dataframe thead th {\n",
       "        text-align: right;\n",
       "    }\n",
       "</style>\n",
       "<table border=\"1\" class=\"dataframe\">\n",
       "  <thead>\n",
       "    <tr style=\"text-align: right;\">\n",
       "      <th></th>\n",
       "      <th>n</th>\n",
       "      <th>percent</th>\n",
       "    </tr>\n",
       "  </thead>\n",
       "  <tbody>\n",
       "    <tr>\n",
       "      <th>PHP</th>\n",
       "      <td>20</td>\n",
       "      <td>0.25</td>\n",
       "    </tr>\n",
       "    <tr>\n",
       "      <th>JavaScript</th>\n",
       "      <td>20</td>\n",
       "      <td>0.25</td>\n",
       "    </tr>\n",
       "    <tr>\n",
       "      <th>Shell</th>\n",
       "      <td>20</td>\n",
       "      <td>0.25</td>\n",
       "    </tr>\n",
       "    <tr>\n",
       "      <th>Python</th>\n",
       "      <td>20</td>\n",
       "      <td>0.25</td>\n",
       "    </tr>\n",
       "  </tbody>\n",
       "</table>\n",
       "</div>"
      ],
      "text/plain": [
       "             n  percent\n",
       "PHP         20     0.25\n",
       "JavaScript  20     0.25\n",
       "Shell       20     0.25\n",
       "Python      20     0.25"
      ]
     },
     "execution_count": 8,
     "metadata": {},
     "output_type": "execute_result"
    },
    {
     "data": {
      "image/png": "[encoded data removed]",
      "text/plain": [
       "<Figure size 432x288 with 1 Axes>"
      ]
     },
     "metadata": {},
     "output_type": "display_data"
    }
   ],
   "source": [
    "df.language.value_counts().plot.pie(\n",
    "    colors = ['pink', 'lightblue', 'green', 'orange'], autopct = '%.0f%%')\n",
    "plt.title(\"Language Distribution\")\n",
    "plt.ylabel(\"\")\n",
    "plt.xlabel('n = %d' % df.shape[0])\n",
    "\n",
    "pd.concat(\n",
    "    [df.language.value_counts(), df.language.value_counts(normalize = True)], axis = 1).set_axis([\"n\", \"percent\"], axis = 1, inplace = False)"
   ]
  },
  {
   "cell_type": "markdown",
   "metadata": {},
   "source": [
    "### Term Frequency\n",
    "\n",
    "Generally, when you hear 'Term Frequency', it is referring to the number of documents in which a word appears. When we move on to computing TF-IDF, this basic definition of Term Frequency applies.\n",
    "\n",
    "However, term frequency can be calculated in a number of ways, all of which reflect how frequently a word appears in a document.\n",
    "\n",
    "Raw Count: This is simply the count of the number of occurances of each word.\n",
    "Frequency: The number of times each word appears divided by the total number of words.\n",
    "Augmented Frequency: The frequency of each word divided by the maximum frequency. This can help prevent bias towards larger documents."
   ]
  },
  {
   "cell_type": "markdown",
   "metadata": {},
   "source": [
    "**Note:** join all Readme and find high count of all words"
   ]
  },
  {
   "cell_type": "code",
   "execution_count": 9,
   "metadata": {},
   "outputs": [
    {
     "data": {
      "text/plain": [
       "data        810\n",
       "use         808\n",
       "yes         693\n",
       "file        650\n",
       "python      583\n",
       "unknown     566\n",
       "library     508\n",
       "using       498\n",
       "aws         445\n",
       "learning    445\n",
       "dtype: int64"
      ]
     },
     "execution_count": 9,
     "metadata": {},
     "output_type": "execute_result"
    }
   ],
   "source": [
    "pd.Series(\" \".join(lemmas_df.lemmatized).split()).value_counts().head(10)"
   ]
  },
  {
   "cell_type": "markdown",
   "metadata": {},
   "source": [
    "**Note:** words within each language"
   ]
  },
  {
   "cell_type": "code",
   "execution_count": 11,
   "metadata": {},
   "outputs": [],
   "source": [
    "all_words = ' '.join(lemmas_df.lemmatized).split()\n",
    "\n",
    "python_words = ' '.join(lemmas_df[lemmas_df.language == 'Python'].lemmatized).split()\n",
    "\n",
    "javascript_words = ' '.join(lemmas_df[lemmas_df.language == 'JavaScript'].lemmatized).split()\n",
    "\n",
    "php_words = ' '.join(lemmas_df[lemmas_df.language == 'PHP'].lemmatized).split()\n",
    "\n",
    "shell_words = ' '.join(lemmas_df[lemmas_df.language == 'Shell'].lemmatized).split()"
   ]
  },
  {
   "cell_type": "markdown",
   "metadata": {},
   "source": [
    "- Once we have a list of words, we can transform it into a pandas Series, which we can then use to show us how often each of the words occurs."
   ]
  },
  {
   "cell_type": "code",
   "execution_count": 12,
   "metadata": {},
   "outputs": [],
   "source": [
    "all_freq = pd.Series(all_words).value_counts()\n",
    "\n",
    "python_words_freq = pd.Series(python_words).value_counts()\n",
    "\n",
    "javascript_words_freq = pd.Series(javascript_words).value_counts()\n",
    "\n",
    "php_words_freq = pd.Series(php_words).value_counts()\n",
    "\n",
    "shell_words_freq = pd.Series(shell_words).value_counts()"
   ]
  },
  {
   "cell_type": "code",
   "execution_count": 15,
   "metadata": {},
   "outputs": [],
   "source": [
    "word_counts = (pd.concat([all_freq, python_words_freq, javascript_words_freq, php_words_freq, shell_words_freq], axis=1, sort=True)\n",
    "                .set_axis(['all', 'Python', 'JavaScript', 'PHP', 'Shell'], axis=1, inplace=False)\n",
    "                .fillna(0)\n",
    "                .apply(lambda s: s.astype(int)))"
   ]
  },
  {
   "cell_type": "code",
   "execution_count": 16,
   "metadata": {},
   "outputs": [
    {
     "data": {
      "text/html": [
       "<div>\n",
       "<style scoped>\n",
       "    .dataframe tbody tr th:only-of-type {\n",
       "        vertical-align: middle;\n",
       "    }\n",
       "\n",
       "    .dataframe tbody tr th {\n",
       "        vertical-align: top;\n",
       "    }\n",
       "\n",
       "    .dataframe thead th {\n",
       "        text-align: right;\n",
       "    }\n",
       "</style>\n",
       "<table border=\"1\" class=\"dataframe\">\n",
       "  <thead>\n",
       "    <tr style=\"text-align: right;\">\n",
       "      <th></th>\n",
       "      <th>&amp;#9;</th>\n",
       "      <th>aaa</th>\n",
       "      <th>aaaffefadffffdebccbecffeeddffffdebffef</th>\n",
       "      <th>aac</th>\n",
       "      <th>aalaapfakeryoutube</th>\n",
       "    </tr>\n",
       "  </thead>\n",
       "  <tbody>\n",
       "    <tr>\n",
       "      <th>all</th>\n",
       "      <td>32</td>\n",
       "      <td>1</td>\n",
       "      <td>1</td>\n",
       "      <td>3</td>\n",
       "      <td>1</td>\n",
       "    </tr>\n",
       "    <tr>\n",
       "      <th>Python</th>\n",
       "      <td>0</td>\n",
       "      <td>0</td>\n",
       "      <td>0</td>\n",
       "      <td>2</td>\n",
       "      <td>0</td>\n",
       "    </tr>\n",
       "    <tr>\n",
       "      <th>JavaScript</th>\n",
       "      <td>16</td>\n",
       "      <td>0</td>\n",
       "      <td>0</td>\n",
       "      <td>1</td>\n",
       "      <td>0</td>\n",
       "    </tr>\n",
       "    <tr>\n",
       "      <th>PHP</th>\n",
       "      <td>2</td>\n",
       "      <td>0</td>\n",
       "      <td>0</td>\n",
       "      <td>0</td>\n",
       "      <td>1</td>\n",
       "    </tr>\n",
       "    <tr>\n",
       "      <th>Shell</th>\n",
       "      <td>14</td>\n",
       "      <td>1</td>\n",
       "      <td>1</td>\n",
       "      <td>0</td>\n",
       "      <td>0</td>\n",
       "    </tr>\n",
       "  </tbody>\n",
       "</table>\n",
       "</div>"
      ],
      "text/plain": [
       "            &#9;  aaa  aaaffefadffffdebccbecffeeddffffdebffef  aac  \\\n",
       "all           32    1                                       1    3   \n",
       "Python         0    0                                       0    2   \n",
       "JavaScript    16    0                                       0    1   \n",
       "PHP            2    0                                       0    0   \n",
       "Shell         14    1                                       1    0   \n",
       "\n",
       "            aalaapfakeryoutube  \n",
       "all                          1  \n",
       "Python                       0  \n",
       "JavaScript                   0  \n",
       "PHP                          1  \n",
       "Shell                        0  "
      ]
     },
     "execution_count": 16,
     "metadata": {},
     "output_type": "execute_result"
    }
   ],
   "source": [
    "word_counts.head().T"
   ]
  },
  {
   "cell_type": "code",
   "execution_count": null,
   "metadata": {},
   "outputs": [],
   "source": []
  },
  {
   "cell_type": "code",
   "execution_count": null,
   "metadata": {},
   "outputs": [],
   "source": []
  },
  {
   "cell_type": "code",
   "execution_count": null,
   "metadata": {},
   "outputs": [],
   "source": []
  },
  {
   "cell_type": "code",
   "execution_count": null,
   "metadata": {},
   "outputs": [],
   "source": []
  },
  {
   "cell_type": "code",
   "execution_count": null,
   "metadata": {},
   "outputs": [],
   "source": []
  }
 ],
 "metadata": {
  "kernelspec": {
   "display_name": "Python 3",
   "language": "python",
   "name": "python3"
  },
  "language_info": {
   "codemirror_mode": {
    "name": "ipython",
    "version": 3
   },
   "file_extension": ".py",
   "mimetype": "text/x-python",
   "name": "python",
   "nbconvert_exporter": "python",
   "pygments_lexer": "ipython3",
   "version": "3.7.3"
  }
 },
 "nbformat": 4,
 "nbformat_minor": 2
}
